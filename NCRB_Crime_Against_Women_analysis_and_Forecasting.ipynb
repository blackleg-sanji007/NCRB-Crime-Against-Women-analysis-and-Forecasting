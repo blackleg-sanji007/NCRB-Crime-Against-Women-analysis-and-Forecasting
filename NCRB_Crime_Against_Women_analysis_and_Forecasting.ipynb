{
  "nbformat": 4,
  "nbformat_minor": 0,
  "metadata": {
    "colab": {
      "provenance": [],
      "authorship_tag": "ABX9TyO3avSFq4/e/JALgead/yG2",
      "include_colab_link": true
    },
    "kernelspec": {
      "name": "python3",
      "display_name": "Python 3"
    },
    "language_info": {
      "name": "python"
    }
  },
  "cells": [
    {
      "cell_type": "markdown",
      "metadata": {
        "id": "view-in-github",
        "colab_type": "text"
      },
      "source": [
        "<a href=\"https://colab.research.google.com/github/blackleg-sanji007/NCRB-Crime-Against-Women-analysis-and-Forecasting/blob/main/NCRB_Crime_Against_Women_analysis_and_Forecasting.ipynb\" target=\"_parent\"><img src=\"https://colab.research.google.com/assets/colab-badge.svg\" alt=\"Open In Colab\"/></a>"
      ]
    },
    {
      "cell_type": "code",
      "source": [
        "import pandas as pd\n"
      ],
      "metadata": {
        "id": "v7UA_J5Kx162"
      },
      "execution_count": null,
      "outputs": []
    },
    {
      "cell_type": "code",
      "source": [
        "df = pd.read_csv('/content/crime against women.csv')"
      ],
      "metadata": {
        "id": "qHCI54qfx__v"
      },
      "execution_count": null,
      "outputs": []
    },
    {
      "cell_type": "code",
      "source": [
        "print(df.head)"
      ],
      "metadata": {
        "colab": {
          "base_uri": "https://localhost:8080/"
        },
        "id": "fmLIWxkLyFta",
        "outputId": "70f21f85-372e-42f9-f323-b1453e963f95"
      },
      "execution_count": null,
      "outputs": [
        {
          "output_type": "stream",
          "name": "stdout",
          "text": [
            "<bound method NDFrame.head of                       state_name  year  total_crimes\n",
            "0    Andaman And Nicobar Islands  2017            24\n",
            "1    Andaman And Nicobar Islands  2018            50\n",
            "2    Andaman And Nicobar Islands  2019            25\n",
            "3    Andaman And Nicobar Islands  2020             5\n",
            "4    Andaman And Nicobar Islands  2021            32\n",
            "..                           ...   ...           ...\n",
            "211                  West Bengal  2018          4397\n",
            "212                  West Bengal  2019          4397\n",
            "213                  West Bengal  2020          3951\n",
            "214                  West Bengal  2021          3817\n",
            "215                  West Bengal  2022          3566\n",
            "\n",
            "[216 rows x 3 columns]>\n"
          ]
        }
      ]
    },
    {
      "cell_type": "code",
      "source": [
        "from sklearn.linear_model import LinearRegression\n",
        "from sklearn.metrics import mean_absolute_error, mean_squared_error, r2_score\n",
        "import numpy as np\n",
        "import pandas as pd\n",
        "\n",
        "# Load your DataFrame\n",
        "# Assuming df is already loaded from a previous cell\n",
        "\n",
        "actual = []\n",
        "predicted = []\n",
        "\n",
        "states = df['state_name'].unique()\n",
        "\n",
        "for state in states:\n",
        "    sub_df = df[df['state_name'] == state]\n",
        "\n",
        "    # We need data for years before 2021 to train and data for 2021 to test.\n",
        "    # We also need at least two data points for training a linear regression model.\n",
        "    if not (2021 in sub_df['year'].values and len(sub_df[sub_df['year'] < 2021]) >= 2):\n",
        "        continue  # Skip if not enough data\n",
        "\n",
        "    # Train on data before 2021\n",
        "    train = sub_df[sub_df['year'] < 2021]\n",
        "    test = sub_df[sub_df['year'] == 2021]\n",
        "\n",
        "    X_train = train[['year']]\n",
        "    y_train = train['total_crimes']\n",
        "\n",
        "    X_test = test[['year']]\n",
        "    y_test = test['total_crimes']\n",
        "\n",
        "\n",
        "    model = LinearRegression()\n",
        "    model.fit(X_train, y_train)\n",
        "    y_pred = model.predict(X_test)\n",
        "\n",
        "    actual.extend(y_test.tolist())\n",
        "    predicted.extend(y_pred.tolist())\n",
        "\n",
        "# Final Evaluation\n",
        "print(\"MAE:\", mean_absolute_error(actual, predicted))\n",
        "print(\"RMSE:\", np.sqrt(mean_squared_error(actual, predicted)))\n",
        "print(\"R² Score:\", r2_score(actual, predicted))"
      ],
      "metadata": {
        "colab": {
          "base_uri": "https://localhost:8080/"
        },
        "id": "8jnO55TiyJe0",
        "outputId": "0002bbbc-8197-4f9b-bfc6-2a5985b04cf7"
      },
      "execution_count": null,
      "outputs": [
        {
          "output_type": "stream",
          "name": "stdout",
          "text": [
            "MAE: 323.56944444444446\n",
            "RMSE: 691.0319627999208\n",
            "R² Score: 0.9603096338566728\n"
          ]
        }
      ]
    },
    {
      "cell_type": "code",
      "source": [
        "pip install prophet\n"
      ],
      "metadata": {
        "colab": {
          "base_uri": "https://localhost:8080/"
        },
        "id": "g4rgDmD1yocz",
        "outputId": "b5446a49-da81-46c8-bec3-8e7283776dfa"
      },
      "execution_count": null,
      "outputs": [
        {
          "output_type": "stream",
          "name": "stdout",
          "text": [
            "Requirement already satisfied: prophet in /usr/local/lib/python3.11/dist-packages (1.1.7)\n",
            "Requirement already satisfied: cmdstanpy>=1.0.4 in /usr/local/lib/python3.11/dist-packages (from prophet) (1.2.5)\n",
            "Requirement already satisfied: numpy>=1.15.4 in /usr/local/lib/python3.11/dist-packages (from prophet) (2.0.2)\n",
            "Requirement already satisfied: matplotlib>=2.0.0 in /usr/local/lib/python3.11/dist-packages (from prophet) (3.10.0)\n",
            "Requirement already satisfied: pandas>=1.0.4 in /usr/local/lib/python3.11/dist-packages (from prophet) (2.2.2)\n",
            "Requirement already satisfied: holidays<1,>=0.25 in /usr/local/lib/python3.11/dist-packages (from prophet) (0.75)\n",
            "Requirement already satisfied: tqdm>=4.36.1 in /usr/local/lib/python3.11/dist-packages (from prophet) (4.67.1)\n",
            "Requirement already satisfied: importlib_resources in /usr/local/lib/python3.11/dist-packages (from prophet) (6.5.2)\n",
            "Requirement already satisfied: stanio<2.0.0,>=0.4.0 in /usr/local/lib/python3.11/dist-packages (from cmdstanpy>=1.0.4->prophet) (0.5.1)\n",
            "Requirement already satisfied: python-dateutil in /usr/local/lib/python3.11/dist-packages (from holidays<1,>=0.25->prophet) (2.9.0.post0)\n",
            "Requirement already satisfied: contourpy>=1.0.1 in /usr/local/lib/python3.11/dist-packages (from matplotlib>=2.0.0->prophet) (1.3.2)\n",
            "Requirement already satisfied: cycler>=0.10 in /usr/local/lib/python3.11/dist-packages (from matplotlib>=2.0.0->prophet) (0.12.1)\n",
            "Requirement already satisfied: fonttools>=4.22.0 in /usr/local/lib/python3.11/dist-packages (from matplotlib>=2.0.0->prophet) (4.58.4)\n",
            "Requirement already satisfied: kiwisolver>=1.3.1 in /usr/local/lib/python3.11/dist-packages (from matplotlib>=2.0.0->prophet) (1.4.8)\n",
            "Requirement already satisfied: packaging>=20.0 in /usr/local/lib/python3.11/dist-packages (from matplotlib>=2.0.0->prophet) (24.2)\n",
            "Requirement already satisfied: pillow>=8 in /usr/local/lib/python3.11/dist-packages (from matplotlib>=2.0.0->prophet) (11.2.1)\n",
            "Requirement already satisfied: pyparsing>=2.3.1 in /usr/local/lib/python3.11/dist-packages (from matplotlib>=2.0.0->prophet) (3.2.3)\n",
            "Requirement already satisfied: pytz>=2020.1 in /usr/local/lib/python3.11/dist-packages (from pandas>=1.0.4->prophet) (2025.2)\n",
            "Requirement already satisfied: tzdata>=2022.7 in /usr/local/lib/python3.11/dist-packages (from pandas>=1.0.4->prophet) (2025.2)\n",
            "Requirement already satisfied: six>=1.5 in /usr/local/lib/python3.11/dist-packages (from python-dateutil->holidays<1,>=0.25->prophet) (1.17.0)\n"
          ]
        }
      ]
    },
    {
      "cell_type": "code",
      "source": [
        "from prophet import Prophet\n",
        "from sklearn.metrics import mean_absolute_error, mean_squared_error, r2_score\n",
        "import numpy as np\n",
        "import pandas as pd\n",
        "\n",
        "# Load and prepare data\n",
        "state = 'Rajasthan'\n",
        "state_df = df[df['state_name'] == state].copy()\n",
        "\n",
        "state_df['ds'] = pd.to_datetime(state_df['year'].astype(str) + '-12-31')\n",
        "state_df['y'] = state_df['total_crimes']\n",
        "\n",
        "# Split train/test\n",
        "train_df = state_df[state_df['year'] < 2022]\n",
        "test_df = state_df[state_df['year'] == 2022]\n",
        "\n",
        "# Train Prophet\n",
        "model = Prophet()\n",
        "model.fit(train_df[['ds', 'y']])\n",
        "\n",
        "# Forecast for 1 year ahead (2021)\n",
        "future = model.make_future_dataframe(periods=1, freq='YE')\n",
        "forecast = model.predict(future)\n",
        "\n",
        "# Get predicted value for 2021\n",
        "y_pred = forecast[forecast['ds'].dt.year == 2021]['yhat'].values[0]\n",
        "y_true = test_df['y'].values[0]\n",
        "\n",
        "# Evaluate\n",
        "mae = mean_absolute_error([y_true], [y_pred])\n",
        "rmse = np.sqrt(mean_squared_error([y_true], [y_pred]))\n",
        "print(f\"Actual: {y_true}, Predicted: {round(y_pred)}\")\n",
        "print(f\"MAE: {mae}\")\n",
        "print(f\"RMSE: {rmse}\")"
      ],
      "metadata": {
        "colab": {
          "base_uri": "https://localhost:8080/"
        },
        "id": "R5J4IgKN0Baj",
        "outputId": "76028174-7424-4f2f-a8fe-a43b772e1b76"
      },
      "execution_count": null,
      "outputs": [
        {
          "output_type": "stream",
          "name": "stderr",
          "text": [
            "INFO:prophet:Disabling weekly seasonality. Run prophet with weekly_seasonality=True to override this.\n",
            "INFO:prophet:Disabling daily seasonality. Run prophet with daily_seasonality=True to override this.\n",
            "INFO:prophet:n_changepoints greater than number of observations. Using 3.\n",
            "DEBUG:cmdstanpy:input tempfile: /tmp/tmpek7qspby/xqqfk8aq.json\n",
            "DEBUG:cmdstanpy:input tempfile: /tmp/tmpek7qspby/v6gikb3h.json\n",
            "DEBUG:cmdstanpy:idx 0\n",
            "DEBUG:cmdstanpy:running CmdStan, num_threads: None\n",
            "DEBUG:cmdstanpy:CmdStan args: ['/usr/local/lib/python3.11/dist-packages/prophet/stan_model/prophet_model.bin', 'random', 'seed=8414', 'data', 'file=/tmp/tmpek7qspby/xqqfk8aq.json', 'init=/tmp/tmpek7qspby/v6gikb3h.json', 'output', 'file=/tmp/tmpek7qspby/prophet_modelxy23r442/prophet_model-20250704234429.csv', 'method=optimize', 'algorithm=newton', 'iter=10000']\n",
            "23:44:29 - cmdstanpy - INFO - Chain [1] start processing\n",
            "INFO:cmdstanpy:Chain [1] start processing\n",
            "23:44:29 - cmdstanpy - INFO - Chain [1] done processing\n",
            "INFO:cmdstanpy:Chain [1] done processing\n"
          ]
        },
        {
          "output_type": "stream",
          "name": "stdout",
          "text": [
            "Actual: 13260, Predicted: 15630\n",
            "MAE: 2369.665466356808\n",
            "RMSE: 2369.665466356808\n"
          ]
        }
      ]
    },
    {
      "cell_type": "code",
      "source": [
        "!pip install openai\n",
        "\n",
        "from openai import OpenAI"
      ],
      "metadata": {
        "id": "VR23rnc71nwn",
        "colab": {
          "base_uri": "https://localhost:8080/"
        },
        "outputId": "de51276d-0159-4754-8050-e66f583b1d6a"
      },
      "execution_count": 1,
      "outputs": [
        {
          "output_type": "stream",
          "name": "stdout",
          "text": [
            "Requirement already satisfied: openai in /usr/local/lib/python3.11/dist-packages (1.93.0)\n",
            "Requirement already satisfied: anyio<5,>=3.5.0 in /usr/local/lib/python3.11/dist-packages (from openai) (4.9.0)\n",
            "Requirement already satisfied: distro<2,>=1.7.0 in /usr/local/lib/python3.11/dist-packages (from openai) (1.9.0)\n",
            "Requirement already satisfied: httpx<1,>=0.23.0 in /usr/local/lib/python3.11/dist-packages (from openai) (0.28.1)\n",
            "Requirement already satisfied: jiter<1,>=0.4.0 in /usr/local/lib/python3.11/dist-packages (from openai) (0.10.0)\n",
            "Requirement already satisfied: pydantic<3,>=1.9.0 in /usr/local/lib/python3.11/dist-packages (from openai) (2.11.7)\n",
            "Requirement already satisfied: sniffio in /usr/local/lib/python3.11/dist-packages (from openai) (1.3.1)\n",
            "Requirement already satisfied: tqdm>4 in /usr/local/lib/python3.11/dist-packages (from openai) (4.67.1)\n",
            "Requirement already satisfied: typing-extensions<5,>=4.11 in /usr/local/lib/python3.11/dist-packages (from openai) (4.14.0)\n",
            "Requirement already satisfied: idna>=2.8 in /usr/local/lib/python3.11/dist-packages (from anyio<5,>=3.5.0->openai) (3.10)\n",
            "Requirement already satisfied: certifi in /usr/local/lib/python3.11/dist-packages (from httpx<1,>=0.23.0->openai) (2025.6.15)\n",
            "Requirement already satisfied: httpcore==1.* in /usr/local/lib/python3.11/dist-packages (from httpx<1,>=0.23.0->openai) (1.0.9)\n",
            "Requirement already satisfied: h11>=0.16 in /usr/local/lib/python3.11/dist-packages (from httpcore==1.*->httpx<1,>=0.23.0->openai) (0.16.0)\n",
            "Requirement already satisfied: annotated-types>=0.6.0 in /usr/local/lib/python3.11/dist-packages (from pydantic<3,>=1.9.0->openai) (0.7.0)\n",
            "Requirement already satisfied: pydantic-core==2.33.2 in /usr/local/lib/python3.11/dist-packages (from pydantic<3,>=1.9.0->openai) (2.33.2)\n",
            "Requirement already satisfied: typing-inspection>=0.4.0 in /usr/local/lib/python3.11/dist-packages (from pydantic<3,>=1.9.0->openai) (0.4.1)\n"
          ]
        }
      ]
    },
    {
      "cell_type": "code",
      "source": [
        "def analysis(data):\n",
        "          client = OpenAI(\n",
        "            base_url=\"https://openrouter.ai/api/v1\", #\n",
        "            api_key=\"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\",\n",
        "          )\n",
        "          completion = client.chat.completions.create(\n",
        "            extra_headers={\n",
        "              \"HTTP-Referer\": \"<YOUR_SITE_URL>\", # Site URL, incase if user wants to integrate this analysis model to a website\n",
        "              \"X-Title\": \"<YOUR_SITE_NAME>\", # Name of site.\n",
        "            },\n",
        "            extra_body={},\n",
        "            model=\"meta-llama/llama-3.3-70b-instruct:free\", #model used for caption analysis\n",
        "            messages=[\n",
        "              {\n",
        "                \"role\": \"user\", # tells or defines the identity of enetiy askiing the query. Who is speaking in the conversation.\n",
        "                \"content\": f\"Analyse the Crime data of the state and try to infer the reasons (social, economic, political, legal factors) behind them. Also analyse the impact of Covid 19 and reasons behind it:\\n\\n{data}\\n\\n\" # promps (Query) provied to LLM. This is the actual text/message that the 'role' is providing.\n",
        "              }\n",
        "            ]\n",
        "          )\n",
        "          print(completion.choices[0].message.content)\n",
        "          return completion.choices[0].message.content #returning the obtained output."
      ],
      "metadata": {
        "id": "toaz-tl_W-tj"
      },
      "execution_count": null,
      "outputs": []
    }
  ]
}